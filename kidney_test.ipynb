{
  "nbformat": 4,
  "nbformat_minor": 0,
  "metadata": {
    "colab": {
      "provenance": []
    },
    "kernelspec": {
      "name": "python3",
      "display_name": "Python 3"
    },
    "language_info": {
      "name": "python"
    }
  },
  "cells": [
    {
      "cell_type": "code",
      "execution_count": 1,
      "metadata": {
        "id": "QkH34Uqg8sTo"
      },
      "outputs": [],
      "source": [
        "from keras.models import load_model\n",
        "import numpy as np\n"
      ]
    },
    {
      "cell_type": "code",
      "source": [
        "labels = ['age', 'bp', 'sg', 'al', 'su', 'rbc', 'pc', 'pcc', 'ba', 'bgr',\n",
        "          'bu', 'sc', 'sod', 'pot', 'hemo', 'pcv', 'wc', 'rc', 'htn', 'dm',\n",
        "          'cad', 'appet', 'pe', 'ane','???']\n"
      ],
      "metadata": {
        "id": "1kHi-__D80Tz"
      },
      "execution_count": 2,
      "outputs": []
    },
    {
      "cell_type": "code",
      "source": [
        "inputs = []\n",
        "for label in labels:\n",
        "    value = input(f'Enter {label}: ')\n",
        "    try:\n",
        "        inputs.append(float(value))\n",
        "    except:\n",
        "        inputs.append(int(value))"
      ],
      "metadata": {
        "colab": {
          "base_uri": "https://localhost:8080/"
        },
        "id": "dwoSxZ_48_px",
        "outputId": "5b81e9aa-c883-4901-9647-121153a04d0f"
      },
      "execution_count": 4,
      "outputs": [
        {
          "name": "stdout",
          "output_type": "stream",
          "text": [
            "Enter age: 48\n",
            "Enter bp: 80\n",
            "Enter sg: 1.020\n",
            "Enter al: 1\n",
            "Enter su: 0\n",
            "Enter rbc: 1\n",
            "Enter pc: 1\n",
            "Enter pcc: 0\n",
            "Enter ba: 0\n",
            "Enter bgr: 121\n",
            "Enter bu: 36\n",
            "Enter sc: 1.2\n",
            "Enter sod: 138\n",
            "Enter pot: 4.2\n",
            "Enter hemo: 15.4\n",
            "Enter pcv: 44\n",
            "Enter wc: 7800\n",
            "Enter rc: 5.2\n",
            "Enter htn: 1\n",
            "Enter dm: 1\n",
            "Enter cad: 0\n",
            "Enter appet: 1\n",
            "Enter pe: 0\n",
            "Enter ane: 0\n",
            "Enter ???: 0\n"
          ]
        }
      ]
    },
    {
      "cell_type": "code",
      "source": [
        "in_array = np.array([inputs])\n"
      ],
      "metadata": {
        "id": "tavA06429EQB"
      },
      "execution_count": 5,
      "outputs": []
    },
    {
      "cell_type": "code",
      "source": [
        "model = load_model('/content/kidney.h5')"
      ],
      "metadata": {
        "colab": {
          "base_uri": "https://localhost:8080/"
        },
        "id": "VxOIISfZ9ofQ",
        "outputId": "e2d54a84-3277-4d2a-d887-fc3c1e04ae9e"
      },
      "execution_count": 6,
      "outputs": [
        {
          "output_type": "stream",
          "name": "stderr",
          "text": [
            "WARNING:absl:Compiled the loaded model, but the compiled metrics have yet to be built. `model.compile_metrics` will be empty until you train or evaluate the model.\n"
          ]
        }
      ]
    },
    {
      "cell_type": "code",
      "source": [
        "result = model.predict(in_array)\n"
      ],
      "metadata": {
        "colab": {
          "base_uri": "https://localhost:8080/"
        },
        "id": "ZnODUHd99zKQ",
        "outputId": "4ceab3ba-1494-409f-a6c1-3fa1a746492e"
      },
      "execution_count": 7,
      "outputs": [
        {
          "output_type": "stream",
          "name": "stdout",
          "text": [
            "\u001b[1m1/1\u001b[0m \u001b[32m━━━━━━━━━━━━━━━━━━━━\u001b[0m\u001b[37m\u001b[0m \u001b[1m0s\u001b[0m 267ms/step\n"
          ]
        }
      ]
    },
    {
      "cell_type": "code",
      "source": [
        "if result > 0.5:\n",
        "    print(\"Kidney Disease Detected\")\n",
        "else:\n",
        "    print(\"No Kidney Disease\")\n"
      ],
      "metadata": {
        "colab": {
          "base_uri": "https://localhost:8080/"
        },
        "id": "7RSF-KkJ92kf",
        "outputId": "7f66fba1-e04b-4dbc-c3a6-5a2dc3ab880d"
      },
      "execution_count": 8,
      "outputs": [
        {
          "output_type": "stream",
          "name": "stdout",
          "text": [
            "Kidney Disease Detected\n"
          ]
        }
      ]
    },
    {
      "cell_type": "code",
      "source": [],
      "metadata": {
        "id": "U86pffzQ953f"
      },
      "execution_count": null,
      "outputs": []
    }
  ]
}